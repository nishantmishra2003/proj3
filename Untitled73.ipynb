{
 "cells": [
  {
   "cell_type": "code",
   "execution_count": 1,
   "id": "cd97727f-7fbe-428a-9e9b-3adf1f591212",
   "metadata": {},
   "outputs": [],
   "source": [
    "#pattern matching\n",
    "import numpy as np\n",
    "import re\n",
    "import pandas as pd\n",
    "import seaborn as sns"
   ]
  },
  {
   "cell_type": "code",
   "execution_count": 2,
   "id": "12f73e64-37b2-43e5-9bf9-70bdf82d7c2b",
   "metadata": {},
   "outputs": [],
   "source": [
    "#import the dataset:\n",
    "titanic = sns.load_dataset('titanic')"
   ]
  },
  {
   "cell_type": "code",
   "execution_count": null,
   "id": "443e474a-a383-4bdf-a93f-4d6a6db5a3b6",
   "metadata": {},
   "outputs": [],
   "source": [
    "# function to perform pattenr matching:\n",
    "def match_pattern(data,column,pattern):\n",
    "    matched_results = []\n",
    "    for value in data[column]:\n",
    "        if re.match(pattern,str(value))\n",
    "        matched_results.append(value)\n",
    "    return matched_results\n",
    "#create a fucntion to get the user input:\n",
    "def get_user_input():\n",
    "    print(\"available cols to search are :'name','age','sex','survived' \")\n",
    "    column = input('enter the column to search').lower()\n",
    "    if column not in ['name','age','sex','survived']:\n",
    "        print('error')\n",
    "        return\n",
    "    pattern = input(f'enter the pattern to be searched in {column}')\n",
    "    matched_results = match_pattern(titanic,column,pattern)\n",
    "    if matched_results:\n",
    "        print(f\"\\nFound {len(matched_results)} as matching to what has been enetered\")\n",
    "        for result in matched_results:\n",
    "            print(result)\n",
    "    else:\n",
    "        print('error')\n",
    "def main():\n",
    "    print('welcome to Titanic dataset pattern matching!!!')\n",
    "    while True:\n",
    "        get_user_input()\n",
    "        again = input('do you want to run it again? : (yes/no)').strip().lower()\n",
    "        if again != 'yes':\n",
    "            print('thanks goodbye')\n",
    "            br\n",
    "        "
   ]
  }
 ],
 "metadata": {
  "kernelspec": {
   "display_name": "Python 3 (ipykernel)",
   "language": "python",
   "name": "python3"
  },
  "language_info": {
   "codemirror_mode": {
    "name": "ipython",
    "version": 3
   },
   "file_extension": ".py",
   "mimetype": "text/x-python",
   "name": "python",
   "nbconvert_exporter": "python",
   "pygments_lexer": "ipython3",
   "version": "3.12.4"
  }
 },
 "nbformat": 4,
 "nbformat_minor": 5
}
